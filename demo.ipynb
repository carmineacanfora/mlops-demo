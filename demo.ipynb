{
 "cells": [
  {
   "cell_type": "markdown",
   "id": "c693aaf2-ad79-4fff-bcc0-c5f4962e8caa",
   "metadata": {},
   "source": [
    "# ML Model Management with JFrog Artifactory and Security scanning (Xray)"
   ]
  },
  {
   "cell_type": "markdown",
   "id": "95d0330d-6b39-4354-8c04-810b267c839e",
   "metadata": {
    "editable": true,
    "slideshow": {
     "slide_type": ""
    },
    "tags": []
   },
   "source": [
    "## Install required PyPI packages from JFrog Artifactory"
   ]
  },
  {
   "cell_type": "code",
   "execution_count": null,
   "id": "55772b02-d999-42d6-9b79-74e870b74e6a",
   "metadata": {},
   "outputs": [],
   "source": [
    "# Configure ~/.pip/pip.conf as described in the JFrog Platform Set-Me-Up for the PyPI remote or virtual repository\n",
    "%pip install ipywidgets matplotlib numpy pandas_datareader pillow pyyaml scikit-image seaborn torch torchvision transformers yfinance    "
   ]
  },
  {
   "cell_type": "markdown",
   "id": "d5f97dc5-2751-4af6-bdb2-fcfe7760bfd1",
   "metadata": {
    "editable": true,
    "slideshow": {
     "slide_type": ""
    },
    "tags": []
   },
   "source": [
    "## Setup Hugging Face environment"
   ]
  },
  {
   "cell_type": "code",
   "execution_count": null,
   "id": "1e798b1a-54c0-402e-a099-27ba859b4c39",
   "metadata": {
    "editable": true,
    "slideshow": {
     "slide_type": ""
    },
    "tags": []
   },
   "outputs": [],
   "source": [
    "import yaml\n",
    "\n",
    "# Read configuration file\n",
    "with open(\"config.yml\", 'r') as ymlfile: cfg = yaml.safe_load(ymlfile)\n",
    "rt_ml_repo_url = cfg['rt']['ml']['repo_url']\n",
    "rt_ml_access_token = cfg['rt']['ml']['access_token']\n",
    "\n",
    "# Update the config.yml file with the Hugging Face repository URL and access token, as described on the Artifactory Set-Me-Up\n",
    "%env HF_ENDPOINT=$rt_ml_repo_url\n",
    "%env HUGGING_FACE_HUB_TOKEN=$rt_ml_access_token"
   ]
  },
  {
   "cell_type": "markdown",
   "id": "470a539d-693c-4baf-ba76-b36d3c573013",
   "metadata": {},
   "source": [
    "## Import required packages"
   ]
  },
  {
   "cell_type": "code",
   "execution_count": null,
   "id": "1c59d30f-c819-4072-bdef-fc6ddf0f7c12",
   "metadata": {},
   "outputs": [],
   "source": [
    "# Update with the details of the company you want to analyse\n",
    "stock_ticker = \"AAPL\"\n",
    "stock_name = \"Apple\"\n",
    "\n",
    "# Import required packages\n",
    "import matplotlib.pyplot as plt, numpy as np, pandas as pd, seaborn as sns, skimage, torch, warnings\n",
    "warnings.simplefilter(action='ignore', category=FutureWarning)\n",
    "\n",
    "from pandas_datareader import data as pdr\n",
    "from PIL import Image, ImageDraw, ImageFont\n",
    "from transformers import pipeline, AutoProcessor, AutoModelForZeroShotObjectDetection, AutoTokenizer, AutoModelForSequenceClassification\n",
    "from transformers.utils import logging\n",
    "from utilities import financial_dataset, read_news, merge_fin_news, sentim_analyzer, merge_dates\n",
    "\n",
    "# Define print function for Makrdown syntax\n",
    "from IPython.display import Markdown, display\n",
    "def printmd(string): display(Markdown(string))\n",
    "\n",
    "# Ignore warnings\n",
    "logging.set_verbosity_error()"
   ]
  },
  {
   "cell_type": "markdown",
   "id": "5409cbfb-3813-457f-b5c4-4b3b7aa29256",
   "metadata": {},
   "source": [
    "---"
   ]
  },
  {
   "cell_type": "markdown",
   "id": "4df0037b-cc10-4fb3-b1a6-5c6c4f7997a2",
   "metadata": {},
   "source": [
    "## Block unlicensed Hugging Face model with JFrog Security (Xray)\n",
    "Prior to running this stage, create an Xray policy that blocks the download of artifacts with unknown licences in your ML Model Management repository and a watch to enforce the check. For more information, see [Creating Xray Policies and Rules](https://jfrog.com/help/r/jfrog-security-documentation/creating-xray-policies-and-rules). "
   ]
  },
  {
   "cell_type": "markdown",
   "id": "3d2c84cc-f56c-4928-84f1-cc7506dbb936",
   "metadata": {},
   "source": [
    "With the environment set up, we can start coding. We want to start using a Sentiment Analysis algorithm first.\\\n",
    "The model called **beto-sentiment-analysis** seems very popular and there are many articles about it, so we're curious to try it out."
   ]
  },
  {
   "cell_type": "code",
   "execution_count": null,
   "id": "f86cce37-c8f0-45a0-908b-cd54d18a9ad0",
   "metadata": {},
   "outputs": [],
   "source": [
    "# Snippet to resolve Hugging Face packages via Artifactory, more details on the Artifactory Set-Me-Up\n",
    "from huggingface_hub import snapshot_download\n",
    "from huggingface_hub.utils import HfHubHTTPError\n",
    "\n",
    "try:\n",
    "    snapshot_download(repo_id=\"finiteautomata/beto-sentiment-analysis\", etag_timeout=1500000000)\n",
    "except HfHubHTTPError as e:\n",
    "    print(\"\\n\\U0001F6A8\\U0001F6A8\\U0001F6A8\\U0001F6A8 Xray blocked model download due to violation of the 'Block-Unknown' license policy.\\U0001F6A8\\U0001F6A8\\U0001F6A8\\U0001F6A8\\n\")"
   ]
  },
  {
   "cell_type": "markdown",
   "id": "8a2b4f1d-d8fc-4b5d-83e7-3b024fee2b5f",
   "metadata": {},
   "source": [
    "Apparently, the model has no license definition and the JFrog policy we defined forbids the usage of unlicensed assets. We needed a new idea!"
   ]
  },
  {
   "cell_type": "markdown",
   "id": "291b0676-b627-44b1-bf60-d4b6027597b7",
   "metadata": {},
   "source": [
    "## Use Hugging Face model with Artifactory\n",
    "\n",
    "There is an interesting image processing technology called **zero-shot-object-detection**. After doing some research, we found an article and a reference to a recommended model, which worked great and had an approved license. With the assistance of the model’s examples page, we wrote some code to use the model and identify frogs."
   ]
  },
  {
   "cell_type": "markdown",
   "id": "a98f4c43-e70f-4e9f-9f2d-4f1c587e69f4",
   "metadata": {},
   "source": [
    "### Load and configure OWL-ViT Transformer"
   ]
  },
  {
   "cell_type": "code",
   "execution_count": null,
   "id": "aa590da1-b9a2-4f50-86cc-59a1ec1157f5",
   "metadata": {},
   "outputs": [],
   "source": [
    "# Snippet to resolve Hugging Face packages via Artifactory, more details on the Artifactory Set-Me-Up\n",
    "from huggingface_hub import snapshot_download\n",
    "from huggingface_hub.utils import HfHubHTTPError\n",
    "\n",
    "try:\n",
    "    snapshot_download(repo_id=\"google/owlvit-base-patch32\", etag_timeout=1500000000)\n",
    "except HfHubHTTPError as e:\n",
    "    print(\"\\n\\n\\U0001F6A8\\U0001F6A8\\U0001F6A8\\U0001F6A8 Xray blocked model download due to violation of the 'Block-Unknown' license policy.\\U0001F6A8\\U0001F6A8\\U0001F6A8\\U0001F6A8\\n\\n\")"
   ]
  },
  {
   "cell_type": "code",
   "execution_count": null,
   "id": "651a91ac-8b68-41ae-a26c-65b04a4ab2ba",
   "metadata": {},
   "outputs": [],
   "source": [
    "checkpoint = \"google/owlvit-base-patch32\"\n",
    "detector = pipeline(model=checkpoint, task=\"zero-shot-object-detection\")\n",
    "model = AutoModelForZeroShotObjectDetection.from_pretrained(checkpoint)\n",
    "processor = AutoProcessor.from_pretrained(checkpoint)"
   ]
  },
  {
   "cell_type": "markdown",
   "id": "e0a7c230-055f-48d2-b0e9-f71d692e3cff",
   "metadata": {},
   "source": [
    "### Display Base Image"
   ]
  },
  {
   "cell_type": "code",
   "execution_count": null,
   "id": "d574f7f1-b5d3-4fc0-9c84-6991146a844a",
   "metadata": {},
   "outputs": [],
   "source": [
    "im = Image.open(\"./img/frog2.jpg\")\n",
    "display(im)"
   ]
  },
  {
   "cell_type": "markdown",
   "id": "565f6902-9c7d-42e2-846f-3c95305150b4",
   "metadata": {},
   "source": [
    "### Where Are the Frogs?\n",
    "\n",
    "Then, we add some more code to identify the objects and draw a marking square around them with the needed classification "
   ]
  },
  {
   "cell_type": "code",
   "execution_count": null,
   "id": "72dc2c58-89ae-40be-902d-da12b7bccc6a",
   "metadata": {},
   "outputs": [],
   "source": [
    "text_queries = [\"Frog\", \"Cat\"]\n",
    "inputs = processor(text=text_queries, images=im, return_tensors=\"pt\")\n",
    "draw = ImageDraw.Draw(im)\n",
    "\n",
    "with torch.no_grad():\n",
    "    outputs = model(**inputs)\n",
    "    target_sizes = torch.tensor([im.size[::-1]])\n",
    "    results = processor.post_process_object_detection(outputs, threshold=0.25, target_sizes=target_sizes)[0]\n",
    "\n",
    "draw = ImageDraw.Draw(im)\n",
    "\n",
    "scores = results[\"scores\"].tolist()\n",
    "labels = results[\"labels\"].tolist()\n",
    "boxes = results[\"boxes\"].tolist()\n",
    "\n",
    "for box, score, label in zip(boxes, scores, labels): \n",
    "    outline = \"green\"\n",
    "    caption = text_queries[label]\n",
    "    if label != 0: # Frog is the zero ordinal in lables\n",
    "        outline = \"red\"\n",
    "        caption = \"Not a Frog!!!!\"\n",
    "        \n",
    "    xmin, ymin, xmax, ymax = box\n",
    "    font = ImageFont.truetype(r'fonts/OpenSans-VariableFont_wdth,wght.ttf', 60) \n",
    "    draw.rectangle((xmin, ymin, xmax, ymax), outline=outline, width=3)\n",
    "    draw.text((xmin, ymin), f\"{caption}\", fill=outline, font = font)\n",
    "\n",
    "display(im)\n",
    "# Close image\n",
    "im.close()"
   ]
  },
  {
   "cell_type": "markdown",
   "id": "9f1da138-8c24-49d0-82a4-cf38df13319e",
   "metadata": {
    "collapsed": true,
    "jupyter": {
     "outputs_hidden": true
    }
   },
   "source": [
    "As you can see from this hypothetical (yet totally plausible) example, setting up JFrog to manage your ML models and integrate with your data scientists and ML Engineers flow is as simple as writing a few lines of code, but it immensely benefits an organization from a visibility and integrity perspective."
   ]
  },
  {
   "cell_type": "markdown",
   "id": "ad97a31c-4a09-4f80-9f39-06b95c3811f8",
   "metadata": {},
   "source": [
    "---"
   ]
  },
  {
   "cell_type": "markdown",
   "id": "cee11e5a-ca48-4d77-8207-ce6c6aed97d1",
   "metadata": {},
   "source": [
    "## Let's try something else ..."
   ]
  },
  {
   "cell_type": "markdown",
   "id": "958f92ba-3a7d-4eab-8dc5-8032001be9f8",
   "metadata": {},
   "source": [
    "### Load Hugging Face Model for Sentiment Analysis with Artifactory"
   ]
  },
  {
   "cell_type": "code",
   "execution_count": null,
   "id": "cb3513f5-cea6-4415-8c92-c6786399de22",
   "metadata": {},
   "outputs": [],
   "source": [
    "# Snippet to resolve Hugging Face packages via Artifactory, more details on the Artifactory Set-Me-Up\n",
    "from huggingface_hub import snapshot_download\n",
    "from huggingface_hub.utils import HfHubHTTPError\n",
    "\n",
    "try:\n",
    "    snapshot_download(repo_id=\"ProsusAI/finbert\", etag_timeout=1500000000)\n",
    "except HfHubHTTPError as e:\n",
    "    print(\"\\n\\U0001F6A8\\U0001F6A8\\U0001F6A8\\U0001F6A8 Xray blocked model download due to violation of the 'Block-Unknown' license policy.\\U0001F6A8\\U0001F6A8\\U0001F6A8\\U0001F6A8\\n\")"
   ]
  },
  {
   "cell_type": "markdown",
   "id": "428f0174-e8c3-4453-a859-112b54db4266",
   "metadata": {},
   "source": [
    "### Read and store headlines\n",
    "The training data consists of 4M articles with daily financial news for 6000 stocks from 2009 to 2020"
   ]
  },
  {
   "cell_type": "code",
   "execution_count": null,
   "id": "becd0e73-26d7-47e6-b044-5dc2cacd07df",
   "metadata": {},
   "outputs": [],
   "source": [
    "# Read dataset\n",
    "stock_news = read_news(stock_ticker)\n",
    "stock_fin = financial_dataset(stock_ticker, num_of_labels = 2)\n",
    "merged_stock = merge_fin_news(stock_fin, stock_news)"
   ]
  },
  {
   "cell_type": "code",
   "execution_count": null,
   "id": "be01335b-7272-4aed-a452-c17d9d854f79",
   "metadata": {},
   "outputs": [],
   "source": [
    "# Create a tokenizer object\n",
    "tokenizer = AutoTokenizer.from_pretrained(\"ProsusAI/finbert\")\n",
    "\n",
    "# Fetch the pretrained model \n",
    "model = AutoModelForSequenceClassification.from_pretrained(\"ProsusAI/finbert\")"
   ]
  },
  {
   "cell_type": "markdown",
   "id": "34682ef9-757a-44c7-aea2-5553f0adcadf",
   "metadata": {},
   "source": [
    "### Run Sentiment Analysis (transformer inference)\n",
    "We want to evaluate stock news and Sentiment Analysis with Fin-BERT Transformer. Sentiment analysis is a natural language processing technique of analyzing the emotion or positiveness of a sentence, in this case in relation to the impact that the news has on the company stock price."
   ]
  },
  {
   "cell_type": "code",
   "execution_count": null,
   "id": "1dca5a88-5fdf-4293-8177-a61cbfccc2b1",
   "metadata": {},
   "outputs": [],
   "source": [
    "# Run Sentiment Analysis on the dataset\n",
    "train_stock_df = sentim_analyzer(merged_stock, tokenizer, model)\n",
    "pd.options.display.max_colwidth = 180"
   ]
  },
  {
   "cell_type": "markdown",
   "id": "f0717f06-0ea3-4456-bce5-c6ae47e7e40c",
   "metadata": {},
   "source": [
    "### Top Positive headlines"
   ]
  },
  {
   "cell_type": "code",
   "execution_count": null,
   "id": "b7a5e1f8-4d9c-46da-87d7-4915d39792a2",
   "metadata": {},
   "outputs": [],
   "source": [
    "train_stock_df[['date', 'headline', 'Positive']].sort_values('Positive',ascending = False).head(15)"
   ]
  },
  {
   "cell_type": "markdown",
   "id": "de481b23-7ebf-4c3b-8c75-8f2409b0ac64",
   "metadata": {},
   "source": [
    "### Top Negative headlines"
   ]
  },
  {
   "cell_type": "code",
   "execution_count": null,
   "id": "0c14ac4e-d7a2-424b-b949-ccf087d89a59",
   "metadata": {},
   "outputs": [],
   "source": [
    "train_stock_df[['date', 'headline', 'Negative']].sort_values('Negative',ascending = False).head(15)"
   ]
  },
  {
   "cell_type": "markdown",
   "id": "d161b04a-cc96-45bf-8137-8e9715c7bcc6",
   "metadata": {},
   "source": [
    "### Cleanup data and plot diagrams"
   ]
  },
  {
   "cell_type": "code",
   "execution_count": null,
   "id": "a120e48f-1248-4d41-b6ea-173ad16b938a",
   "metadata": {},
   "outputs": [],
   "source": [
    "# Merge dates by computing average sentiment score for each date\n",
    "train_stock_df_merged = merge_dates(train_stock_df)\n",
    "\n",
    "# Store results into .csv file\n",
    "#train_stock_df_merged.to_csv('Financial_News/trained/train_'+stock_ticker+'DB_labels.csv')\n",
    "\n",
    "# Cleanup data\n",
    "train_stock_df_merged['date'].unique()\n",
    "data = train_stock_df_merged\n",
    "\n",
    "# Calculate pie chart diagram metrics\n",
    "incr = len(data[data['Price_change']==1])\n",
    "decr = data.shape[0] - incr\n",
    "positive = len(data[data['Positive']>(data['Negative']+data['Neutral'])])\n",
    "negative = len(data[data['Negative']>(data['Positive']+data['Neutral'])])\n",
    "neutral = len(data)-(positive+negative)\n",
    "incr_ratio = (100 * positive) / data.shape[0]\n",
    "decr_ratio = (100 * negative) / data.shape[0]\n",
    "\n",
    "# Plot pie chart diagram and legend\n",
    "fig, ax = plt.subplots(figsize=(6,6))\n",
    "plt.pie(x=[positive, negative, neutral], labels=['Positive','Negative','Neutral'], shadow=True, autopct='%1.1f%%')\n",
    "plt.title('Sentiment Analysis ', fontsize=18)\n",
    "plt.show()\n",
    "printmd(\"### **Total:** \"+str(len(data))+\"&emsp; **Positive:** \"+str(positive)+\"&emsp; **Negative:**&nbsp; \"+str(negative)+\"&emsp; **Neutral:** \"+str(neutral))"
   ]
  },
  {
   "cell_type": "code",
   "execution_count": null,
   "id": "9a564312-d0e9-40db-9b45-9b251d68cf93",
   "metadata": {},
   "outputs": [],
   "source": [
    "# Plot data distribution\n",
    "fig , ax = plt.subplots(figsize=(16,10))\n",
    "fig.suptitle(\"Data points distribution\", fontsize=18)\n",
    "sns.scatterplot(data=data, x=\"Positive\", y=\"Negative\", size='Neutral', hue = 'Price_change')\n",
    "plt.show()"
   ]
  },
  {
   "cell_type": "markdown",
   "id": "dacf3733-0f95-46c4-a4c2-ca2ffb8f65a5",
   "metadata": {},
   "source": [
    "### Do we want to try with a new headline?"
   ]
  },
  {
   "cell_type": "code",
   "execution_count": null,
   "id": "7789cf70-950b-4ab0-86f5-a1c6f9db242f",
   "metadata": {
    "editable": true,
    "slideshow": {
     "slide_type": ""
    },
    "tags": []
   },
   "outputs": [],
   "source": [
    "# Define future headlines\n",
    "headlines = [\n",
    "    stock_name+\" adopts JFrog Advanced Security and Curation to increase productivity and focus on the security threats that are impacting the business.\",\n",
    "    stock_name+\" acquires JFrog for $10 billion deal that will enable the company to offer market-leading solutions to their end users.\",\n",
    "    stock_name+\" margins shrink due to prolonged challenging market conditions and inflation.\",\n",
    "    \"JFrog acquires \"+stock_name+\" for $5 result of a bet between the two CEOs after too many drinks.\",\n",
    "    stock_name+\" pledge to become carbon-neutral by the end of this decade in response to popular demand.\",\n",
    "    stock_name+\" revealed a new strategy to bring back employees to the office 4 days a week to pre-pandemic levels.\"\n",
    "]\n",
    "\n",
    "# Evaluate future headlines\n",
    "printmd(\"## Breaking News from the future:\")\n",
    "for h in headlines:\n",
    "    # Pre-process input phrase\n",
    "    input = tokenizer(h, padding = True, truncation = True, return_tensors='pt')\n",
    "    # Run inference on the tokenized phrase\n",
    "    output = model(**input)\n",
    "    # Pass model output logits through a softmax layer.\n",
    "    sentim_scores = torch.nn.functional.softmax(output.logits, dim=-1)\n",
    "    \n",
    "    if sentim_scores[0][0] > (sentim_scores[0][1] + sentim_scores[0][2]):\n",
    "        printmd(\"### \\U0001F680 \"+h)\n",
    "    elif sentim_scores[0][1] > (sentim_scores[0][0] + sentim_scores[0][2]):\n",
    "        printmd(\"### \\U0001F62D \"+h)\n",
    "    else:\n",
    "        printmd(\"### \\U0001FAE4 \"+h)"
   ]
  }
 ],
 "metadata": {
  "kernelspec": {
   "display_name": "Python 3 (ipykernel)",
   "language": "python",
   "name": "python3"
  },
  "language_info": {
   "codemirror_mode": {
    "name": "ipython",
    "version": 3
   },
   "file_extension": ".py",
   "mimetype": "text/x-python",
   "name": "python",
   "nbconvert_exporter": "python",
   "pygments_lexer": "ipython3",
   "version": "3.11.5"
  },
  "vscode": {
   "interpreter": {
    "hash": "aee8b7b246df8f9039afb4144a1f6fd8d2ca17a180786b69acc140d282b71a49"
   }
  }
 },
 "nbformat": 4,
 "nbformat_minor": 5
}
